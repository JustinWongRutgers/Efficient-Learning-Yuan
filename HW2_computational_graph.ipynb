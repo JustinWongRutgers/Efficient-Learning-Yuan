{
 "cells": [
  {
   "cell_type": "markdown",
   "metadata": {},
   "source": [
    "### 1. Implementation using pure python"
   ]
  },
  {
   "cell_type": "code",
   "execution_count": 1,
   "metadata": {},
   "outputs": [],
   "source": [
    "import numpy as np\n",
    "import math"
   ]
  },
  {
   "cell_type": "markdown",
   "metadata": {},
   "source": [
    "# Problem 1"
   ]
  },
  {
   "cell_type": "code",
   "execution_count": 2,
   "metadata": {},
   "outputs": [
    {
     "name": "stdout",
     "output_type": "stream",
     "text": [
      "f(w1, x1, w2, x2):\n",
      " 0.5\n",
      "A(w1, x1, w2, x2):\n",
      " 2.0\n",
      "B(w1, x1, w2, x2):\n",
      " 1.4997597826618576e-32\n",
      "C(w1, x1, w2, x2):\n",
      " 6.123233995736766e-17\n",
      "D(w1, x1, w2, x2):\n",
      " 1.2246467991473532e-16\n",
      "E(w1, x1, w2, x2):\n",
      " 3.141592653589793\n",
      "F(w1, x1, w2, x2):\n",
      " 1.5707963267948966\n",
      "w1:\n",
      " 3.141592653589793\n",
      "x1:\n",
      " 1\n",
      "w2:\n",
      " 3.141592653589793\n",
      "x2:\n",
      " 0.5\n",
      "df/dA:\n",
      " -0.25\n",
      "df/dB:\n",
      " -0.25\n",
      "df/dC:\n",
      " -0.25\n",
      "df/dD:\n",
      " -6.123233995736766e-17\n",
      "df/dE:\n",
      " 6.123233995736766e-17\n",
      "df/dF:\n",
      " 0.25\n",
      "df/dw1:\n",
      " 6.123233995736766e-17\n",
      "df/dx1:\n",
      " 1.9236706937217898e-16\n",
      "df/dw2:\n",
      " 0.125\n",
      "df/dx2:\n",
      " 0.7853981633974483\n"
     ]
    }
   ],
   "source": [
    "w1, x1, w2, x2 = np.pi, 1, np.pi, 0.5\n",
    "\n",
    "f = lambda A: 1/A\n",
    "A = lambda B,C: B+C+2\n",
    "B = lambda D: D**2\n",
    "C = lambda F: np.cos(F)\n",
    "D = lambda E: np.sin(E)\n",
    "E = lambda w1, x1: w1*x1\n",
    "F = lambda w2, x2: w2*x2\n",
    "\n",
    "dfda = lambda A: -1/A**2\n",
    "dadb = lambda B: 1\n",
    "dadc = lambda C: 1\n",
    "dbdd = lambda D: 2*D\n",
    "dcdf = lambda F: -np.sin(F)\n",
    "ddde = lambda E: np.cos(E)\n",
    "dedx1 = lambda w1,x1: w1\n",
    "dedw1 = lambda w1,x1: x1\n",
    "dfdx2 = lambda w2,x2: w2\n",
    "dfdw2 = lambda w2,x2: x2\n",
    "\n",
    "print(\"f(w1, x1, w2, x2):\\n\", f(A(B(D(E(w1,x1))), C(F(w2,x2)))))\n",
    "print(\"A(w1, x1, w2, x2):\\n\", A(B(D(E(w1,x1))), C(F(w2,x2))))\n",
    "print(\"B(w1, x1, w2, x2):\\n\", B(D(E(w1,x1))))\n",
    "print(\"C(w1, x1, w2, x2):\\n\", C(F(w2,x2)))\n",
    "print(\"D(w1, x1, w2, x2):\\n\", D(E(w1,x1)))\n",
    "print(\"E(w1, x1, w2, x2):\\n\", E(w1,x1))\n",
    "print(\"F(w1, x1, w2, x2):\\n\",F(w2,x2))\n",
    "print(\"w1:\\n\", w1)\n",
    "print(\"x1:\\n\", x1)\n",
    "print(\"w2:\\n\", w2)\n",
    "print(\"x2:\\n\", x2)\n",
    "print(\"df/dA:\\n\", dfda(A(B(D(E(w1,x1))), C(F(w2,x2)))))\n",
    "print(\"df/dB:\\n\", dadb(B(D(E(w1,x1))))*dfda(A(B(D(E(w1,x1))), C(F(w2,x2)))))\n",
    "print(\"df/dC:\\n\", dadc(C(F(w2,x2)))*dfda(A(B(D(E(w1,x1))), C(F(w2,x2)))))\n",
    "print(\"df/dD:\\n\", dbdd(D(E(w1,x1)))*dadb(B(D(E(w1,x1))))*dfda(A(B(D(E(w1,x1))), C(F(w2,x2)))))\n",
    "print(\"df/dE:\\n\", ddde(E(w1,x1))*dbdd(D(E(w1,x1)))*dadb(B(D(E(w1,x1))))*dfda(A(B(D(E(w1,x1))), C(F(w2,x2)))))\n",
    "print(\"df/dF:\\n\", dcdf(F(w2,x2))*dadc(C(F(w2,x2)))*dfda(A(B(D(E(w1,x1))), C(F(w2,x2)))))\n",
    "print(\"df/dw1:\\n\", dedw1(w1,x1)*ddde(E(w1,x1))*dbdd(D(E(w1,x1)))*dadb(B(D(E(w1,x1))))*dfda(A(B(D(E(w1,x1))), C(F(w2,x2)))))\n",
    "print(\"df/dx1:\\n\", dedx1(w1,x1)*ddde(E(w1,x1))*dbdd(D(E(w1,x1)))*dadb(B(D(E(w1,x1))))*dfda(A(B(D(E(w1,x1))), C(F(w2,x2)))))\n",
    "print(\"df/dw2:\\n\", dfdw2(w2,x2)*dcdf(F(w2,x2))*dadc(C(F(w2,x2)))*dfda(A(B(D(E(w1,x1))), C(F(w2,x2)))))\n",
    "print(\"df/dx2:\\n\", dfdx2(w2,x2)*dcdf(F(w2,x2))*dadc(C(F(w2,x2)))*dfda(A(B(D(E(w1,x1))), C(F(w2,x2)))))\n"
   ]
  },
  {
   "cell_type": "markdown",
   "metadata": {},
   "source": [
    "# Problem 2"
   ]
  },
  {
   "cell_type": "code",
   "execution_count": 19,
   "metadata": {},
   "outputs": [
    {
     "name": "stdout",
     "output_type": "stream",
     "text": [
      "f(W,x):\n",
      " 0.21698846438553976\n",
      "A(W,x):\n",
      " [[0.26894142]\n",
      " [0.26894142]\n",
      " [0.26894142]]\n",
      "B(W,x):\n",
      " [[-1]\n",
      " [-1]\n",
      " [-1]]\n",
      "W:\n",
      " [[0 1 2]\n",
      " [0 0 1]\n",
      " [1 0 0]]\n",
      "x:\n",
      " [[-1]\n",
      " [ 1]\n",
      " [-1]]\n",
      "df/dA:\n",
      " [[0.53788284]\n",
      " [0.53788284]\n",
      " [0.53788284]]\n",
      "df/dB:\n",
      " [[0.10575419]\n",
      " [0.10575419]\n",
      " [0.10575419]]\n",
      "df/dx:\n",
      " [[0.10575419]\n",
      " [0.10575419]\n",
      " [0.31726256]]\n",
      "df/dW:\n",
      " [[-0.10575419  0.10575419 -0.10575419]\n",
      " [-0.10575419  0.10575419 -0.10575419]\n",
      " [-0.10575419  0.10575419 -0.10575419]]\n"
     ]
    }
   ],
   "source": [
    "\n",
    "sigmoid = lambda x: 1/(1+np.exp(-x))\n",
    "\n",
    "f = lambda A: np.linalg.norm(A)**2\n",
    "\n",
    "dfda = lambda A: 2*A\n",
    "A = lambda B: sigmoid(B)\n",
    "\n",
    "dadb = lambda B: np.multiply(sigmoid(B),(1 - sigmoid(B)))\n",
    "B = lambda W,x: np.matmul(W,x)\n",
    "\n",
    "dbdx = lambda W,x,B: W.transpose()\n",
    "dbdw = lambda W,x,B: x.transpose()\n",
    "\n",
    "x = np.matrix([[-1], [1], [-1]])\n",
    "W = np.matrix([[0, 1, 2],[0, 0, 1],[1, 0, 0]])\n",
    "\n",
    "\n",
    "print(\"f(W,x):\\n\", f(A(B(W,x))))\n",
    "print(\"A(W,x):\\n\", A(B(W,x)))\n",
    "print(\"B(W,x):\\n\", B(W,x))\n",
    "print(\"W:\\n\", W)\n",
    "print(\"x:\\n\", x)\n",
    "print(\"df/dA:\\n\", dfda(A(B(W,x))))\n",
    "print(\"df/dB:\\n\", np.multiply(dadb(B(W,x)),dfda(A(B(W,x)))))\n",
    "print(\"df/dx:\\n\", np.matmul(dbdx(W,x,B(W,x)), np.multiply(dadb(B(W,x)),dfda(A(B(W,x))))))\n",
    "print(\"df/dW:\\n\", np.matmul( np.multiply(dadb(B(W,x)),dfda(A(B(W,x)))), dbdw(W,x,B(W,x))))"
   ]
  },
  {
   "cell_type": "markdown",
   "metadata": {},
   "source": [
    "#### 2. Implementation using pytorch"
   ]
  },
  {
   "cell_type": "code",
   "execution_count": 4,
   "metadata": {},
   "outputs": [],
   "source": [
    "import torch\n",
    "from torch import FloatTensor\n",
    "from torch.autograd import Variable"
   ]
  },
  {
   "cell_type": "markdown",
   "metadata": {},
   "source": [
    "# Problem 1"
   ]
  },
  {
   "cell_type": "code",
   "execution_count": 5,
   "metadata": {},
   "outputs": [
    {
     "name": "stdout",
     "output_type": "stream",
     "text": [
      "Gradient of w1 at the chosen inputs: \n",
      " tensor([-4.3711e-08])\n",
      "Gradient of x1 at the chosen inputs: \n",
      " tensor([-1.3732e-07])\n",
      "Gradient of w2 at the chosen inputs: \n",
      " tensor([0.1250])\n",
      "Gradient of x2 at the chosen inputs: \n",
      " tensor([0.7854])\n"
     ]
    }
   ],
   "source": [
    "weights = [Variable(FloatTensor([i]), requires_grad=True) for i in (math.pi, math.pi, 1, 0.5)]\n",
    "\n",
    "w1, w2, x1, x2 = weights\n",
    "\n",
    "C = torch.cos(x2*w2)\n",
    "B = torch.sin(x1*w1)\n",
    "D = B**2\n",
    "A = D + C\n",
    "L = 1/(2+A)\n",
    "\n",
    "L.backward()\n",
    "\n",
    "\n",
    "\n",
    "weights = Variable(FloatTensor([[0,1,2],[0, 0, 1], [1, 0, 0]]), requires_grad=True)\n",
    "xs =  Variable(FloatTensor([[-1], [1], [-1]]), requires_grad=True)\n",
    "\n",
    "B = torch.mm(weights,xs)\n",
    "A = torch.sigmoid(B)\n",
    "L = torch.norm(A, 2)**2\n",
    "\n",
    "L.backward()\n",
    "\n",
    "print(\"Gradient of w1 at the chosen inputs: \\n\", w1.grad.data)\n",
    "print(\"Gradient of x1 at the chosen inputs: \\n\", x1.grad.data)\n",
    "print(\"Gradient of w2 at the chosen inputs: \\n\", w2.grad.data)\n",
    "print(\"Gradient of x2 at the chosen inputs: \\n\", x2.grad.data)\n",
    "\n"
   ]
  },
  {
   "cell_type": "markdown",
   "metadata": {},
   "source": [
    "# Problem 2"
   ]
  },
  {
   "cell_type": "code",
   "execution_count": 7,
   "metadata": {},
   "outputs": [
    {
     "name": "stdout",
     "output_type": "stream",
     "text": [
      "Gradient of W at the chosen inputs: \n",
      " tensor([[-0.1058,  0.1058, -0.1058],\n",
      "        [-0.1058,  0.1058, -0.1058],\n",
      "        [-0.1058,  0.1058, -0.1058]])\n",
      "Gradient of x at the chosen inputs: \n",
      " tensor([[0.1058],\n",
      "        [0.1058],\n",
      "        [0.3173]])\n"
     ]
    }
   ],
   "source": [
    "weights = Variable(FloatTensor([[0,1,2],[0, 0, 1], [1, 0, 0]]), requires_grad=True)\n",
    "xs =  Variable(FloatTensor([[-1], [1], [-1]]), requires_grad=True)\n",
    "\n",
    "B = torch.mm(weights,xs)\n",
    "A = torch.sigmoid(B)\n",
    "L = torch.norm(A, 2)**2\n",
    "\n",
    "L.backward()\n",
    "\n",
    "print(\"Gradient of W at the chosen inputs: \\n\", weights.grad.data)\n",
    "print(\"Gradient of x at the chosen inputs: \\n\", xs.grad.data)\n"
   ]
  }
 ],
 "metadata": {
  "kernelspec": {
   "display_name": "Python 3",
   "language": "python",
   "name": "python3"
  },
  "language_info": {
   "codemirror_mode": {
    "name": "ipython",
    "version": 3
   },
   "file_extension": ".py",
   "mimetype": "text/x-python",
   "name": "python",
   "nbconvert_exporter": "python",
   "pygments_lexer": "ipython3",
   "version": "3.6.5"
  }
 },
 "nbformat": 4,
 "nbformat_minor": 2
}
